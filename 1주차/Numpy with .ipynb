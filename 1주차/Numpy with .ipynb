{
 "cells": [
  {
   "cell_type": "markdown",
   "id": "17766dc1",
   "metadata": {},
   "source": [
    "# Linear Algebra with Numpy\n",
    "\n",
    "## B.Furthermore"
   ]
  },
  {
   "cell_type": "markdown",
   "id": "35732832",
   "metadata": {},
   "source": [
    "## 트레이스\n",
    "- Main diagnoal의 합\n",
    "- 'np.trace()'를 사용\n"
   ]
  },
  {
   "cell_type": "code",
   "execution_count": 3,
   "id": "fd037800",
   "metadata": {},
   "outputs": [],
   "source": [
    "import numpy as np"
   ]
  },
  {
   "cell_type": "code",
   "execution_count": 4,
   "id": "cc99f08a",
   "metadata": {},
   "outputs": [
    {
     "data": {
      "text/plain": [
       "array([[1, 2, 3],\n",
       "       [4, 5, 6],\n",
       "       [7, 8, 9]])"
      ]
     },
     "execution_count": 4,
     "metadata": {},
     "output_type": "execute_result"
    }
   ],
   "source": [
    "arr = np.array([[1,2,3],[4,5,6],[7,8,9]])\n",
    "arr"
   ]
  },
  {
   "cell_type": "code",
   "execution_count": 5,
   "id": "f82ed156",
   "metadata": {},
   "outputs": [
    {
     "data": {
      "text/plain": [
       "15"
      ]
     },
     "execution_count": 5,
     "metadata": {},
     "output_type": "execute_result"
    }
   ],
   "source": [
    "arr.trace()"
   ]
  },
  {
   "cell_type": "markdown",
   "id": "b47d0c87",
   "metadata": {},
   "source": [
    "## 행렬식\n",
    "- 행렬을 대표하는 값들 중 하나\n",
    "- 선형변환 과정에서 vector의 Scaling 척도\n",
    "- '**np.linalg.det()**'으로 계산"
   ]
  },
  {
   "cell_type": "code",
   "execution_count": 10,
   "id": "f986ce78",
   "metadata": {},
   "outputs": [
    {
     "data": {
      "text/plain": [
       "array([[2, 3],\n",
       "       [1, 6]])"
      ]
     },
     "execution_count": 10,
     "metadata": {},
     "output_type": "execute_result"
    }
   ],
   "source": [
    "arr_2 = np.array([[2,3],[1,6]])\n",
    "\n",
    "arr_2"
   ]
  },
  {
   "cell_type": "code",
   "execution_count": 11,
   "id": "a2bbaaba",
   "metadata": {},
   "outputs": [
    {
     "data": {
      "text/plain": [
       "9.000000000000002"
      ]
     },
     "execution_count": 11,
     "metadata": {},
     "output_type": "execute_result"
    }
   ],
   "source": [
    "np.linalg.det(arr_2)"
   ]
  },
  {
   "cell_type": "code",
   "execution_count": 14,
   "id": "c98ec796",
   "metadata": {},
   "outputs": [
    {
     "data": {
      "text/plain": [
       "array([[1, 4, 7],\n",
       "       [2, 5, 8],\n",
       "       [3, 6, 9]])"
      ]
     },
     "execution_count": 14,
     "metadata": {},
     "output_type": "execute_result"
    }
   ],
   "source": [
    "arr_3 = np.array([[1,4,7],[2,5,8],[3,6,9]])\n",
    "\n",
    "arr_3"
   ]
  },
  {
   "cell_type": "code",
   "execution_count": 15,
   "id": "db166398",
   "metadata": {},
   "outputs": [
    {
     "data": {
      "text/plain": [
       "0.0"
      ]
     },
     "execution_count": 15,
     "metadata": {},
     "output_type": "execute_result"
    }
   ],
   "source": [
    "np.linalg.det(arr_3)"
   ]
  },
  {
   "cell_type": "markdown",
   "id": "1bff3398",
   "metadata": {},
   "source": [
    "## 역행렬\n",
    "- 행렬A에 대해 AB = BA = I를 만족하는 행렬 B \n",
    "- B = A^-1\n",
    "- 'np.linalg.inv()'으로 계산"
   ]
  },
  {
   "cell_type": "code",
   "execution_count": 16,
   "id": "d9973a27",
   "metadata": {},
   "outputs": [
    {
     "data": {
      "text/plain": [
       "array([[1, 4],\n",
       "       [2, 3]])"
      ]
     },
     "execution_count": 16,
     "metadata": {},
     "output_type": "execute_result"
    }
   ],
   "source": [
    "mat = np.array([[1,4], [2,3]])\n",
    "\n",
    "mat"
   ]
  },
  {
   "cell_type": "code",
   "execution_count": 19,
   "id": "812848c4",
   "metadata": {},
   "outputs": [
    {
     "data": {
      "text/plain": [
       "array([[-0.6,  0.8],\n",
       "       [ 0.4, -0.2]])"
      ]
     },
     "execution_count": 19,
     "metadata": {},
     "output_type": "execute_result"
    }
   ],
   "source": [
    "mat_inv = np.linalg.inv(mat)\n",
    "\n",
    "mat_inv"
   ]
  },
  {
   "cell_type": "code",
   "execution_count": 20,
   "id": "566c2952",
   "metadata": {},
   "outputs": [
    {
     "data": {
      "text/plain": [
       "array([[1., 0.],\n",
       "       [0., 1.]])"
      ]
     },
     "execution_count": 20,
     "metadata": {},
     "output_type": "execute_result"
    }
   ],
   "source": [
    "mat @ mat_inv"
   ]
  },
  {
   "cell_type": "markdown",
   "id": "26e6e8e4",
   "metadata": {},
   "source": [
    "## 고유값과 고유벡터\n",
    "- 정방행렬(nXn) A에 대해서 \n",
    "- 'np.linalg.eig()'으로 계산"
   ]
  },
  {
   "cell_type": "code",
   "execution_count": 22,
   "id": "32e65560",
   "metadata": {},
   "outputs": [
    {
     "data": {
      "text/plain": [
       "array([[ 2,  0, -2],\n",
       "       [ 1,  1, -2],\n",
       "       [ 0,  0,  1]])"
      ]
     },
     "execution_count": 22,
     "metadata": {},
     "output_type": "execute_result"
    }
   ],
   "source": [
    "mta = np.array([[2,0,-2],[1,1,-2], [0,0,1]])\n",
    "\n",
    "mta"
   ]
  },
  {
   "cell_type": "code",
   "execution_count": 23,
   "id": "2927c8b5",
   "metadata": {},
   "outputs": [
    {
     "data": {
      "text/plain": [
       "(array([1., 2., 1.]),\n",
       " array([[0.        , 0.70710678, 0.89442719],\n",
       "        [1.        , 0.70710678, 0.        ],\n",
       "        [0.        , 0.        , 0.4472136 ]]))"
      ]
     },
     "execution_count": 23,
     "metadata": {},
     "output_type": "execute_result"
    }
   ],
   "source": [
    "np.linalg.eig(mta)"
   ]
  },
  {
   "cell_type": "code",
   "execution_count": null,
   "id": "6b3dcec8",
   "metadata": {},
   "outputs": [],
   "source": []
  }
 ],
 "metadata": {
  "kernelspec": {
   "display_name": "Python 3 (ipykernel)",
   "language": "python",
   "name": "python3"
  },
  "language_info": {
   "codemirror_mode": {
    "name": "ipython",
    "version": 3
   },
   "file_extension": ".py",
   "mimetype": "text/x-python",
   "name": "python",
   "nbconvert_exporter": "python",
   "pygments_lexer": "ipython3",
   "version": "3.8.5"
  }
 },
 "nbformat": 4,
 "nbformat_minor": 5
}
