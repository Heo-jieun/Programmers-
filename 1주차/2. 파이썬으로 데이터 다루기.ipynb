{
 "cells": [
  {
   "cell_type": "markdown",
   "id": "2990a821",
   "metadata": {},
   "source": [
    "## 1. pandas 시작하기\n",
    "\n",
    "### Prerequisite : Table\n",
    "\n",
    " - 행과 열은 이용해서 데이터를 저장하고 관리하는 자료구조(컨테이너)\n",
    " - 주로 행은 개체, 열은 속성을 나타냄\n",
    " \n",
    " ### Pandas 시작하기\n",
    " \n",
    " \"import pandas\"를 통해서 진행"
   ]
  },
  {
   "cell_type": "code",
   "execution_count": 2,
   "id": "93bb79a5",
   "metadata": {},
   "outputs": [],
   "source": [
    "import pandas as pd"
   ]
  },
  {
   "cell_type": "markdown",
   "id": "b2fb278d",
   "metadata": {},
   "source": [
    "## 2. pandas로 1차원 데이터 다루기 - Series\n",
    "\n",
    "### Series?\n",
    "\n",
    "- 1차원 labeled **array**\n",
    "- 인덱스를 지정해줄 수 있음\n"
   ]
  },
  {
   "cell_type": "code",
   "execution_count": 3,
   "id": "7ff62562",
   "metadata": {},
   "outputs": [
    {
     "data": {
      "text/plain": [
       "0     1\n",
       "1     4\n",
       "2     9\n",
       "3    16\n",
       "4    25\n",
       "dtype: int64"
      ]
     },
     "execution_count": 3,
     "metadata": {},
     "output_type": "execute_result"
    }
   ],
   "source": [
    "s = pd.Series([1, 4, 9, 16, 25]) # 리스트 가능\n",
    "\n",
    "s"
   ]
  },
  {
   "cell_type": "code",
   "execution_count": 4,
   "id": "60e4cf08",
   "metadata": {},
   "outputs": [
    {
     "data": {
      "text/plain": [
       "one      1\n",
       "two      2\n",
       "three    3\n",
       "four     4\n",
       "five     5\n",
       "dtype: int64"
      ]
     },
     "execution_count": 4,
     "metadata": {},
     "output_type": "execute_result"
    }
   ],
   "source": [
    "t = pd.Series({'one' : 1, 'two' : 2, 'three' : 3, \"four\" : 4, \"five\" : 5} ) # 딕셔너리 가능\n",
    "\n",
    "t"
   ]
  },
  {
   "cell_type": "markdown",
   "id": "36d46d9c",
   "metadata": {},
   "source": [
    "## Series + Numpy\n",
    "\n",
    "- Series는 ndarray와 유사하다!"
   ]
  },
  {
   "cell_type": "code",
   "execution_count": 6,
   "id": "c3198d61",
   "metadata": {},
   "outputs": [
    {
     "data": {
      "text/plain": [
       "4"
      ]
     },
     "execution_count": 6,
     "metadata": {},
     "output_type": "execute_result"
    }
   ],
   "source": [
    "s[1]"
   ]
  },
  {
   "cell_type": "code",
   "execution_count": 7,
   "id": "a9684f12",
   "metadata": {},
   "outputs": [
    {
     "data": {
      "text/plain": [
       "2"
      ]
     },
     "execution_count": 7,
     "metadata": {},
     "output_type": "execute_result"
    }
   ],
   "source": [
    "t[1]"
   ]
  },
  {
   "cell_type": "code",
   "execution_count": 8,
   "id": "8ccb530e",
   "metadata": {},
   "outputs": [
    {
     "data": {
      "text/plain": [
       "two      2\n",
       "three    3\n",
       "dtype: int64"
      ]
     },
     "execution_count": 8,
     "metadata": {},
     "output_type": "execute_result"
    }
   ],
   "source": [
    "t[1:3]"
   ]
  },
  {
   "cell_type": "code",
   "execution_count": 10,
   "id": "d523a81a",
   "metadata": {},
   "outputs": [
    {
     "data": {
      "text/plain": [
       "3    16\n",
       "4    25\n",
       "dtype: int64"
      ]
     },
     "execution_count": 10,
     "metadata": {},
     "output_type": "execute_result"
    }
   ],
   "source": [
    "s[s > s.median()] #자기 자신의 median(중앙값)보다 큰 값들만 가지고 와라"
   ]
  },
  {
   "cell_type": "code",
   "execution_count": 11,
   "id": "6c08acbd",
   "metadata": {},
   "outputs": [
    {
     "data": {
      "text/plain": [
       "3    16\n",
       "1     4\n",
       "4    25\n",
       "dtype: int64"
      ]
     },
     "execution_count": 11,
     "metadata": {},
     "output_type": "execute_result"
    }
   ],
   "source": [
    "s[[3, 1, 4]] #여러가지의 인덱스를 동시에 한 리스트로 묶어서 전달 가능"
   ]
  },
  {
   "cell_type": "code",
   "execution_count": 12,
   "id": "bacb8ead",
   "metadata": {},
   "outputs": [
    {
     "data": {
      "text/plain": [
       "0    2.718282e+00\n",
       "1    5.459815e+01\n",
       "2    8.103084e+03\n",
       "3    8.886111e+06\n",
       "4    7.200490e+10\n",
       "dtype: float64"
      ]
     },
     "execution_count": 12,
     "metadata": {},
     "output_type": "execute_result"
    }
   ],
   "source": [
    "import numpy as np\n",
    "\n",
    "np.exp(s) # exp() : 지수함수"
   ]
  },
  {
   "cell_type": "code",
   "execution_count": 14,
   "id": "f9c06b39",
   "metadata": {},
   "outputs": [
    {
     "data": {
      "text/plain": [
       "dtype('int64')"
      ]
     },
     "execution_count": 14,
     "metadata": {},
     "output_type": "execute_result"
    }
   ],
   "source": [
    "s.dtype # series에 담긴 데이터타입 확인 가능"
   ]
  },
  {
   "cell_type": "markdown",
   "id": "a00d320f",
   "metadata": {},
   "source": [
    "-> 이처럼 numpy와 series는 비슷한 점이 많음"
   ]
  },
  {
   "cell_type": "markdown",
   "id": "b6a33bd0",
   "metadata": {},
   "source": [
    "## Series + dict\n",
    "- series는 **dict**와 유사하다"
   ]
  },
  {
   "cell_type": "code",
   "execution_count": 15,
   "id": "71ab8483",
   "metadata": {},
   "outputs": [
    {
     "data": {
      "text/plain": [
       "one      1\n",
       "two      2\n",
       "three    3\n",
       "four     4\n",
       "five     5\n",
       "dtype: int64"
      ]
     },
     "execution_count": 15,
     "metadata": {},
     "output_type": "execute_result"
    }
   ],
   "source": [
    "t"
   ]
  },
  {
   "cell_type": "code",
   "execution_count": 16,
   "id": "11c2fe63",
   "metadata": {},
   "outputs": [
    {
     "data": {
      "text/plain": [
       "1"
      ]
     },
     "execution_count": 16,
     "metadata": {},
     "output_type": "execute_result"
    }
   ],
   "source": [
    "t['one']"
   ]
  },
  {
   "cell_type": "code",
   "execution_count": 17,
   "id": "6c3e6277",
   "metadata": {},
   "outputs": [
    {
     "data": {
      "text/plain": [
       "one      1\n",
       "two      2\n",
       "three    3\n",
       "four     4\n",
       "five     5\n",
       "six      6\n",
       "dtype: int64"
      ]
     },
     "execution_count": 17,
     "metadata": {},
     "output_type": "execute_result"
    }
   ],
   "source": [
    "# Series에 값 추가\n",
    "\n",
    "t['six'] = 6\n",
    "\n",
    "t"
   ]
  },
  {
   "cell_type": "code",
   "execution_count": 18,
   "id": "025d85f6",
   "metadata": {},
   "outputs": [
    {
     "data": {
      "text/plain": [
       "True"
      ]
     },
     "execution_count": 18,
     "metadata": {},
     "output_type": "execute_result"
    }
   ],
   "source": [
    "'six' in t # t Series안에 key값 six가 있는지 없는지 판단 후  true, false로 return  "
   ]
  },
  {
   "cell_type": "code",
   "execution_count": 21,
   "id": "a80b6eed",
   "metadata": {},
   "outputs": [],
   "source": [
    "# t['seven'] -> key error 발생"
   ]
  },
  {
   "cell_type": "code",
   "execution_count": 23,
   "id": "275e5056",
   "metadata": {},
   "outputs": [
    {
     "data": {
      "text/plain": [
       "0"
      ]
     },
     "execution_count": 23,
     "metadata": {},
     "output_type": "execute_result"
    }
   ],
   "source": [
    "t.get('seven', 0) # seven 이란 값을 찾고 없으면 0을 return "
   ]
  },
  {
   "cell_type": "code",
   "execution_count": 24,
   "id": "f173a87e",
   "metadata": {},
   "outputs": [],
   "source": [
    "t.get('seven') # seven 이란 값을 찾고 없으면 return 값 없음"
   ]
  },
  {
   "cell_type": "markdown",
   "id": "d8f0db21",
   "metadata": {},
   "source": [
    "# Series에 이름 붙이기\n",
    "\n",
    "- 'name' 속성을 가지고 있다.\n",
    "- 처음 Series를 만들 때 이름을 붙일 수 있습니다."
   ]
  },
  {
   "cell_type": "code",
   "execution_count": 25,
   "id": "cf10bb0a",
   "metadata": {},
   "outputs": [
    {
     "data": {
      "text/plain": [
       "0   -0.053925\n",
       "1   -1.160971\n",
       "2    0.483347\n",
       "3    1.034349\n",
       "4    1.027276\n",
       "Name: random_nums, dtype: float64"
      ]
     },
     "execution_count": 25,
     "metadata": {},
     "output_type": "execute_result"
    }
   ],
   "source": [
    "s = pd.Series(np.random.randn(5), name = \"random_nums\")\n",
    "\n",
    "s"
   ]
  },
  {
   "cell_type": "code",
   "execution_count": 27,
   "id": "22f3510e",
   "metadata": {},
   "outputs": [
    {
     "data": {
      "text/plain": [
       "0   -0.053925\n",
       "1   -1.160971\n",
       "2    0.483347\n",
       "3    1.034349\n",
       "4    1.027276\n",
       "Name: 임의의 난수, dtype: float64"
      ]
     },
     "execution_count": 27,
     "metadata": {},
     "output_type": "execute_result"
    }
   ],
   "source": [
    "s.name = \"임의의 난수\"  # Series에 이름을 붙일 수 있음\n",
    "s"
   ]
  },
  {
   "cell_type": "code",
   "execution_count": null,
   "id": "41ad02c0",
   "metadata": {},
   "outputs": [],
   "source": []
  }
 ],
 "metadata": {
  "kernelspec": {
   "display_name": "Python 3 (ipykernel)",
   "language": "python",
   "name": "python3"
  },
  "language_info": {
   "codemirror_mode": {
    "name": "ipython",
    "version": 3
   },
   "file_extension": ".py",
   "mimetype": "text/x-python",
   "name": "python",
   "nbconvert_exporter": "python",
   "pygments_lexer": "ipython3",
   "version": "3.8.5"
  }
 },
 "nbformat": 4,
 "nbformat_minor": 5
}
