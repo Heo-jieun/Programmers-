{
 "cells": [
  {
   "cell_type": "markdown",
   "id": "82c773c7",
   "metadata": {},
   "source": [
    "## 1. Numpy 시작하기"
   ]
  },
  {
   "cell_type": "markdown",
   "id": "a2d0f247",
   "metadata": {},
   "source": [
    "### Remind : 리스트"
   ]
  },
  {
   "cell_type": "code",
   "execution_count": 1,
   "id": "7309a6ab",
   "metadata": {},
   "outputs": [
    {
     "name": "stdout",
     "output_type": "stream",
     "text": [
      "[1, 'two', 3.0]\n"
     ]
    }
   ],
   "source": [
    "arr = [1, \"two\", 3.0]\n",
    "\n",
    "print(arr)"
   ]
  },
  {
   "cell_type": "markdown",
   "id": "0a503f0a",
   "metadata": {},
   "source": [
    "### numpy 모듈 불러오기"
   ]
  },
  {
   "cell_type": "code",
   "execution_count": 12,
   "id": "84c09f4f",
   "metadata": {},
   "outputs": [],
   "source": [
    "import numpy as np "
   ]
  },
  {
   "cell_type": "markdown",
   "id": "0bd98487",
   "metadata": {},
   "source": [
    "### 왜 numpy를 사용해야 할까?"
   ]
  },
  {
   "cell_type": "code",
   "execution_count": 8,
   "id": "ef8fb90b",
   "metadata": {},
   "outputs": [
    {
     "name": "stdout",
     "output_type": "stream",
     "text": [
      "311 µs ± 4.98 µs per loop (mean ± std. dev. of 7 runs, 1000 loops each)\n"
     ]
    }
   ],
   "source": [
    "L = range(1000)\n",
    "\n",
    "%timeit [i** 2 for i in L] # %timeit : 실행시간 측정"
   ]
  },
  {
   "cell_type": "markdown",
   "id": "0624fe7d",
   "metadata": {},
   "source": [
    "### numpy.array"
   ]
  },
  {
   "cell_type": "code",
   "execution_count": 14,
   "id": "ce132809",
   "metadata": {},
   "outputs": [
    {
     "name": "stdout",
     "output_type": "stream",
     "text": [
      "2.25 µs ± 291 ns per loop (mean ± std. dev. of 7 runs, 100000 loops each)\n"
     ]
    }
   ],
   "source": [
    "N = np.arange(1000)\n",
    "\n",
    "%timeit N**2"
   ]
  },
  {
   "cell_type": "markdown",
   "id": "93243f78",
   "metadata": {},
   "source": [
    "### numpy.array\n",
    "\n",
    "numpyt의 Container, array"
   ]
  },
  {
   "cell_type": "code",
   "execution_count": 16,
   "id": "e6ddbfde",
   "metadata": {},
   "outputs": [
    {
     "data": {
      "text/plain": [
       "array([1, 2, 3])"
      ]
     },
     "execution_count": 16,
     "metadata": {},
     "output_type": "execute_result"
    }
   ],
   "source": [
    "arr = np.array([1,2,3])\n",
    "\n",
    "arr"
   ]
  },
  {
   "cell_type": "code",
   "execution_count": 17,
   "id": "b057d235",
   "metadata": {},
   "outputs": [
    {
     "data": {
      "text/plain": [
       "array([[1, 2, 3],\n",
       "       [4, 5, 6]])"
      ]
     },
     "execution_count": 17,
     "metadata": {},
     "output_type": "execute_result"
    }
   ],
   "source": [
    "arr_2d = np.array([[1,2,3],[4,5,6]])\n",
    "\n",
    "arr_2d"
   ]
  },
  {
   "cell_type": "code",
   "execution_count": 18,
   "id": "91737b3f",
   "metadata": {},
   "outputs": [
    {
     "data": {
      "text/plain": [
       "(3,)"
      ]
     },
     "execution_count": 18,
     "metadata": {},
     "output_type": "execute_result"
    }
   ],
   "source": [
    "arr.shape #차원을 알아내는 것 "
   ]
  },
  {
   "cell_type": "code",
   "execution_count": 19,
   "id": "8bbf97a6",
   "metadata": {},
   "outputs": [
    {
     "data": {
      "text/plain": [
       "(2, 3)"
      ]
     },
     "execution_count": 19,
     "metadata": {},
     "output_type": "execute_result"
    }
   ],
   "source": [
    "arr_2d.shape"
   ]
  },
  {
   "cell_type": "markdown",
   "id": "253f426d",
   "metadata": {},
   "source": [
    "## Numpy로 연산하기"
   ]
  },
  {
   "cell_type": "markdown",
   "id": "cf6bad04",
   "metadata": {},
   "source": [
    "### Vector와 Scalar사이의 연산"
   ]
  },
  {
   "cell_type": "code",
   "execution_count": 24,
   "id": "b27c1f0c",
   "metadata": {},
   "outputs": [
    {
     "data": {
      "text/plain": [
       "array([1, 2, 3])"
      ]
     },
     "execution_count": 24,
     "metadata": {},
     "output_type": "execute_result"
    }
   ],
   "source": [
    "x = np.array([1,2,3])\n",
    "\n",
    "x"
   ]
  },
  {
   "cell_type": "code",
   "execution_count": 22,
   "id": "da100f54",
   "metadata": {},
   "outputs": [
    {
     "data": {
      "text/plain": [
       "5"
      ]
     },
     "execution_count": 22,
     "metadata": {},
     "output_type": "execute_result"
    }
   ],
   "source": [
    "c = 5\n",
    "c"
   ]
  },
  {
   "cell_type": "code",
   "execution_count": 26,
   "id": "ffe7986a",
   "metadata": {},
   "outputs": [
    {
     "name": "stdout",
     "output_type": "stream",
     "text": [
      "더하기 : [6 7 8]\n",
      "빼기 : [-4 -3 -2]\n",
      "곱하기 : [ 5 10 15]\n",
      "나누기 : [0.2 0.4 0.6]\n"
     ]
    }
   ],
   "source": [
    "print(\"더하기 : {}\".format(x + c))\n",
    "print(\"빼기 : {}\".format(x - c))\n",
    "print(\"곱하기 : {}\".format(x * c))\n",
    "print(\"나누기 : {}\".format(x / c))"
   ]
  },
  {
   "cell_type": "markdown",
   "id": "cfe9df63",
   "metadata": {},
   "source": [
    "### Vector와 Vector 사이의 연산\n",
    "\n",
    "벡터의 **같은 인덱스**끼리 연산이 진행"
   ]
  },
  {
   "cell_type": "code",
   "execution_count": 27,
   "id": "86d4ef22",
   "metadata": {},
   "outputs": [
    {
     "name": "stdout",
     "output_type": "stream",
     "text": [
      "더하기 : [ 3 12 25]\n",
      "빼기 : [ -1  -6 -15]\n",
      "곱하기 : [  2  27 100]\n",
      "나누기 : [0.5        0.33333333 0.25      ]\n"
     ]
    }
   ],
   "source": [
    "y = np.array([1,3,5])\n",
    "z = np.array([2,9,20])\n",
    "\n",
    "print(\"더하기 : {}\".format(y + z))\n",
    "print(\"빼기 : {}\".format(y - z))\n",
    "print(\"곱하기 : {}\".format(y * z))\n",
    "print(\"나누기 : {}\".format(y / z))"
   ]
  },
  {
   "cell_type": "markdown",
   "id": "44ade9b9",
   "metadata": {},
   "source": [
    "## Array Indexing\n",
    "\n",
    "python의 리스트와 유사하게 진행"
   ]
  },
  {
   "cell_type": "code",
   "execution_count": 29,
   "id": "0c1bfe21",
   "metadata": {},
   "outputs": [
    {
     "data": {
      "text/plain": [
       "1"
      ]
     },
     "execution_count": 29,
     "metadata": {},
     "output_type": "execute_result"
    }
   ],
   "source": [
    "W = np.array([[1,2,3,4], [5,6,7,8], [9,10,11,12]])\n",
    "\n",
    "W[0,0]"
   ]
  },
  {
   "cell_type": "code",
   "execution_count": 30,
   "id": "63aaa762",
   "metadata": {},
   "outputs": [
    {
     "data": {
      "text/plain": [
       "7"
      ]
     },
     "execution_count": 30,
     "metadata": {},
     "output_type": "execute_result"
    }
   ],
   "source": [
    "# 7을 가져오련면?\n",
    "W[1,2]"
   ]
  },
  {
   "cell_type": "markdown",
   "id": "c91a752c",
   "metadata": {},
   "source": [
    "## Array Slicing\n",
    "Python의 리스트와 유사하게 진행"
   ]
  },
  {
   "cell_type": "code",
   "execution_count": 31,
   "id": "af238934",
   "metadata": {},
   "outputs": [
    {
     "data": {
      "text/plain": [
       "array([[2, 3],\n",
       "       [6, 7]])"
      ]
     },
     "execution_count": 31,
     "metadata": {},
     "output_type": "execute_result"
    }
   ],
   "source": [
    "W = np.array([[1,2,3,4], [5,6,7,8], [9,10,11,12]])\n",
    "\n",
    "# 2, 3 -> 행 : 인덱스 0~1 -> [0:2]\n",
    "# 6, 7 -> 열 : 인덱스 1~2 -> [1:3]\n",
    "\n",
    "W[0:2, 1:3]"
   ]
  },
  {
   "cell_type": "markdown",
   "id": "c54ab295",
   "metadata": {},
   "source": [
    "## Array Broadcasting\n",
    "\n",
    "Numpy가 연산을 진행하는 특수한 방법!\n",
    "\n",
    "기본적으로 같은 Type의 data에 대해서만 연산이 적용 가능 하지만 \n",
    "만약에 피연산자가 연산 가능하도록 변환이 가능하다면 연산이 가능합니다.\n",
    "이를 **Broadcasting**이라고 합니다.\n",
    "\n",
    "\n",
    "1. M * N, M * 1\n",
    "M * N + M * 1 -> 이 연산을 진행 할 때 M*1 을 M * N 처럼 계산한다. / 차원을 동일하게 맞춰줌\n",
    "\n",
    "ex)\n",
    "[[1,2,3], [4,5,6], [7,8,9]] + [[0,0,0], [1,1,1], [0,0,0]]\n",
    "\n",
    "2. M * N , 1 * N\n",
    " M * N * 1 * N -> 이 연산을 진행 할 대 1 * N 을 M * N 처럼 계산한다. / 차원을 동일하게 맞춰줌\n",
    "\n",
    "ex)\n",
    "[[1,2,3], [4,5,6], [7,8,9]] * [[0,1,-1], [0,1,-1], [0,1,-1]] = [[0,2,-3], [0,5,-6],[0,8,-9]]\n",
    "* 여기서의 곱은 행렬곱이 아님!!\n",
    "\n",
    "3. M * 1, 1* N \n",
    " 서로서로 보완하는 차원에서 Broadcasting이 진행됨\n",
    " so M * 1 -> M * N / 1 * N -> M * N 으로 \n",
    " "
   ]
  },
  {
   "cell_type": "markdown",
   "id": "fa2b9928",
   "metadata": {},
   "source": [
    "### 1. M by N , M by 1"
   ]
  },
  {
   "cell_type": "code",
   "execution_count": 33,
   "id": "0b68497c",
   "metadata": {
    "scrolled": true
   },
   "outputs": [
    {
     "name": "stdout",
     "output_type": "stream",
     "text": [
      "[[1 2 3]\n",
      " [5 6 7]\n",
      " [7 8 9]]\n"
     ]
    }
   ],
   "source": [
    "a = np.array([[1,2,3], [4,5,6], [7,8,9]])\n",
    "x = np.array([0,1,0])\n",
    "\n",
    "x = x[:, None] # x를 전치\n",
    "\n",
    "print(a+x)"
   ]
  },
  {
   "cell_type": "markdown",
   "id": "f989c273",
   "metadata": {},
   "source": [
    "### 2. M by N , 1 by N"
   ]
  },
  {
   "cell_type": "code",
   "execution_count": 35,
   "id": "49dfc49c",
   "metadata": {},
   "outputs": [
    {
     "name": "stdout",
     "output_type": "stream",
     "text": [
      "[[ 3  1 -1]\n",
      " [ 4  2  0]\n",
      " [ 5  3  1]]\n"
     ]
    }
   ],
   "source": [
    "t = np.array([1,2,3]) # 열 벡터로 바꿔줘야함 !\n",
    "t = t[:, None]\n",
    "\n",
    "u = np.array([2, 0, -2])\n",
    "\n",
    "print(t + u)"
   ]
  },
  {
   "cell_type": "markdown",
   "id": "c038eca1",
   "metadata": {},
   "source": [
    "# Linear Algebra with Numpy\n",
    "\n",
    "### A.bassics\n",
    "\n",
    "### 영벡터\n",
    "- 원소가 모두 0 인 벡터(행렬)\n",
    "- 'np.zeros(dim)'을 통해 생성, dim은 값, 혹은 튜플(,)"
   ]
  },
  {
   "cell_type": "code",
   "execution_count": 36,
   "id": "866a563f",
   "metadata": {},
   "outputs": [
    {
     "data": {
      "text/plain": [
       "array([0., 0., 0.])"
      ]
     },
     "execution_count": 36,
     "metadata": {},
     "output_type": "execute_result"
    }
   ],
   "source": [
    "np.zeros(3)"
   ]
  },
  {
   "cell_type": "markdown",
   "id": "4d71db1c",
   "metadata": {},
   "source": [
    "### 일벡터\n",
    "- 원소가 모두 1인 벡터\n",
    "- 'np.ones(dim)'을 통행 생성, dim은 값, 튜플(,)"
   ]
  },
  {
   "cell_type": "code",
   "execution_count": 37,
   "id": "c6acc452",
   "metadata": {},
   "outputs": [
    {
     "data": {
      "text/plain": [
       "array([1., 1.])"
      ]
     },
     "execution_count": 37,
     "metadata": {},
     "output_type": "execute_result"
    }
   ],
   "source": [
    "np.ones(2)"
   ]
  },
  {
   "cell_type": "code",
   "execution_count": 39,
   "id": "c6c65291",
   "metadata": {},
   "outputs": [
    {
     "data": {
      "text/plain": [
       "array([[1., 1., 1., 1.],\n",
       "       [1., 1., 1., 1.],\n",
       "       [1., 1., 1., 1.],\n",
       "       [1., 1., 1., 1.]])"
      ]
     },
     "execution_count": 39,
     "metadata": {},
     "output_type": "execute_result"
    }
   ],
   "source": [
    "np.ones((4,4))"
   ]
  },
  {
   "cell_type": "markdown",
   "id": "80d79a65",
   "metadata": {},
   "source": [
    "### 대각행렬\n",
    "- Main diagonal을 제외한 성분이 0인 행렬\n",
    "- 'np.diaf(main_diagnals)'을 통해 생성할 수 있음."
   ]
  },
  {
   "cell_type": "code",
   "execution_count": 41,
   "id": "b075ffde",
   "metadata": {},
   "outputs": [
    {
     "data": {
      "text/plain": [
       "array([[2, 0],\n",
       "       [0, 4]])"
      ]
     },
     "execution_count": 41,
     "metadata": {},
     "output_type": "execute_result"
    }
   ],
   "source": [
    "np.diag((2,4))"
   ]
  },
  {
   "cell_type": "code",
   "execution_count": 42,
   "id": "f05e8c9e",
   "metadata": {},
   "outputs": [
    {
     "data": {
      "text/plain": [
       "array([[1, 0, 0, 0],\n",
       "       [0, 2, 0, 0],\n",
       "       [0, 0, 3, 0],\n",
       "       [0, 0, 0, 4]])"
      ]
     },
     "execution_count": 42,
     "metadata": {},
     "output_type": "execute_result"
    }
   ],
   "source": [
    "np.diag((1,2,3,4))"
   ]
  },
  {
   "cell_type": "markdown",
   "id": "6b80b84f",
   "metadata": {},
   "source": [
    "### 항등행렬\n",
    "- Main diagonal이 1인 대각행렬\n",
    "- 'np.eye()'을 통행 생성할 수 있음 .\n",
    "- 'np.eye(n, (dtype = int, uint, float, complex, ....))"
   ]
  },
  {
   "cell_type": "code",
   "execution_count": 43,
   "id": "487d0f57",
   "metadata": {},
   "outputs": [
    {
     "data": {
      "text/plain": [
       "array([[1., 0.],\n",
       "       [0., 1.]])"
      ]
     },
     "execution_count": 43,
     "metadata": {},
     "output_type": "execute_result"
    }
   ],
   "source": [
    " np.eye(2) # 기본이 float"
   ]
  },
  {
   "cell_type": "code",
   "execution_count": 44,
   "id": "091c107f",
   "metadata": {},
   "outputs": [
    {
     "data": {
      "text/plain": [
       "array([[1, 0],\n",
       "       [0, 1]])"
      ]
     },
     "execution_count": 44,
     "metadata": {},
     "output_type": "execute_result"
    }
   ],
   "source": [
    "np.eye(2, dtype = int)"
   ]
  },
  {
   "cell_type": "markdown",
   "id": "4fd82eef",
   "metadata": {},
   "source": [
    "### 행렬곱\n",
    "- 행렬간의 곱연산\n",
    "- 'np.dot()' or '@' 사용"
   ]
  },
  {
   "cell_type": "code",
   "execution_count": 45,
   "id": "f3085f54",
   "metadata": {},
   "outputs": [
    {
     "data": {
      "text/plain": [
       "array([[31, 46],\n",
       "       [39, 58]])"
      ]
     },
     "execution_count": 45,
     "metadata": {},
     "output_type": "execute_result"
    }
   ],
   "source": [
    "mat1 = np.array([[7,8], [9,10]])\n",
    "mat2 = np.array([[1,2],[3,4]])\n",
    "\n",
    "mat1.dot(mat2)"
   ]
  },
  {
   "cell_type": "code",
   "execution_count": 46,
   "id": "6b34ba85",
   "metadata": {},
   "outputs": [
    {
     "data": {
      "text/plain": [
       "array([[31, 46],\n",
       "       [39, 58]])"
      ]
     },
     "execution_count": 46,
     "metadata": {},
     "output_type": "execute_result"
    }
   ],
   "source": [
    "mat1 @ mat2"
   ]
  },
  {
   "cell_type": "code",
   "execution_count": null,
   "id": "48851da6",
   "metadata": {},
   "outputs": [],
   "source": []
  }
 ],
 "metadata": {
  "kernelspec": {
   "display_name": "Python 3 (ipykernel)",
   "language": "python",
   "name": "python3"
  },
  "language_info": {
   "codemirror_mode": {
    "name": "ipython",
    "version": 3
   },
   "file_extension": ".py",
   "mimetype": "text/x-python",
   "name": "python",
   "nbconvert_exporter": "python",
   "pygments_lexer": "ipython3",
   "version": "3.8.5"
  }
 },
 "nbformat": 4,
 "nbformat_minor": 5
}
