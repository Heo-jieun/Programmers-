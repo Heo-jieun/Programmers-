{
 "cells": [
  {
   "cell_type": "markdown",
   "id": "6b76a218",
   "metadata": {},
   "source": [
    "# Flask\n",
    "\n",
    "## 1. Flask 설치하기"
   ]
  },
  {
   "cell_type": "markdown",
   "id": "8d0abaff",
   "metadata": {},
   "source": [
    "- 웹 애플리케이션 구축하는데 사용되는 파이썬 웹 프레임 워크\n",
    "- Python 기반 마이크로 웹 프레임 워크\n",
    "\n",
    "## 2. Flask 시작하기\n",
    "\n",
    "### 가상환경 설치하기\n",
    "\n",
    "- pip install virtualenv\n",
    "- virtualenv <가상환경 이름> // venv\n",
    "\n",
    "### 가상환경 진입\n",
    "\n",
    "#### mac 버전\n",
    "- source venv/bin/activate\n",
    "\n",
    "#### 윈도우 버전\n",
    "- ./venv/Scripts/activate.bat\n",
    "- venv\\Scripts\\activate.bat\n",
    "\n",
    "- pip install flask 명령어로 가상환경에 flask 설치하기\n",
    "\n",
    "* pip freeze : 설치된 모듈을 전부 보여줌 "
   ]
  },
  {
   "cell_type": "markdown",
   "id": "47f53f9f",
   "metadata": {},
   "source": [
    "## 3. Flask 사용하기\n",
    "\n",
    "### Hello world! 출력\n",
    "\n",
    "- 편집프로그램에서 \n",
    "\n",
    "-----\n",
    "from flask import Flask\n",
    "\n",
    "app = Flask(__name__)\n",
    "\n",
    "@app.route('/')\n",
    "def hello_flask():\n",
    "    return \"Helow World!\"\n",
    "\n",
    "if __name__ == '__main__':\n",
    "    app.run()\n",
    "    \n",
    "-----\n",
    "\n",
    "이와 같은 코드 작성\n",
    "\n",
    "- CLI에서 해당 파일이 있는 디렉토리로 이동.\n",
    "- 이동 후 flask run 명령어로 flask 실행.\n",
    "- 실행 후 생성된 웹페이지에서 출력값 확인."
   ]
  },
  {
   "cell_type": "markdown",
   "id": "4c8b371d",
   "metadata": {},
   "source": [
    "# 인터넷과 웹"
   ]
  },
  {
   "cell_type": "markdown",
   "id": "00c623ec",
   "metadata": {},
   "source": [
    "- 인터넷 : 전 세계 컴퓨터를 하나로 합치는 거대한 통신망\n",
    "- 웹 : 인터넷에 연결된 사용자들이 정보를 공유할 수 있는 **공간**\n",
    "- 웹페이지 : 웹에 있는 개개의 정보 \n",
    "- 웹사이트 : 웹페이지의 집합\n",
    "\n",
    "## Web의 동작 방식\n",
    "\n",
    "- 웹은 Client와 Server에 정보를 요청한다.\n",
    "\n",
    "- Client : 정보를 요청하는 입장\n",
    "- Server : 정보를 제공하는 입장\n",
    "\n",
    "1. Client가 Server에 정보를 *요청*한다. (request)\n",
    "2. Server는 요청받은 정보에 대한 *처리*를 진행한다. \n",
    "3. Server가 Cleint에게 요청에 대해 *응답*한다. (response)\n",
    "\n",
    " 만약 Client와 Server가 정보를 교환하는 과정에서 정보를 주고 받는 방식이 모두 제각각 이라면 인터넷을 사용하기 매우 어려워 질것이다.\n",
    "그래서 우리는 **HTTP**라는 약속을 정했다. \n",
    "\n",
    "결국 웹은 이 프로토콜에 맞는 규칙에 따라서 정보를 교환!!\n"
   ]
  },
  {
   "cell_type": "markdown",
   "id": "0cf64858",
   "metadata": {},
   "source": []
  }
 ],
 "metadata": {
  "kernelspec": {
   "display_name": "Python 3 (ipykernel)",
   "language": "python",
   "name": "python3"
  },
  "language_info": {
   "codemirror_mode": {
    "name": "ipython",
    "version": 3
   },
   "file_extension": ".py",
   "mimetype": "text/x-python",
   "name": "python",
   "nbconvert_exporter": "python",
   "pygments_lexer": "ipython3",
   "version": "3.8.5"
  }
 },
 "nbformat": 4,
 "nbformat_minor": 5
}
